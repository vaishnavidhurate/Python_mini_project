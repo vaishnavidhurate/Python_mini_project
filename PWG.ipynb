{
 "cells": [
  {
   "cell_type": "markdown",
   "id": "5df4d370-0e67-4074-b7f9-67bf34cdcd1f",
   "metadata": {},
   "source": [
    "#  RANDOM PASSWORD GENERATOR"
   ]
  },
  {
   "cell_type": "code",
   "execution_count": 5,
   "id": "8664acf9-ce77-4d6d-b4aa-7ced9a7d0625",
   "metadata": {},
   "outputs": [
    {
     "name": "stdin",
     "output_type": "stream",
     "text": [
      "How many passwords do you want to generate?  2\n"
     ]
    },
    {
     "name": "stdout",
     "output_type": "stream",
     "text": [
      "Generating 2 passwords\n",
      "Minimum length of password should be 3\n"
     ]
    },
    {
     "name": "stdin",
     "output_type": "stream",
     "text": [
      "Enter the length of Password #1  5\n",
      "Enter the length of Password #2  5\n"
     ]
    },
    {
     "name": "stdout",
     "output_type": "stream",
     "text": [
      "PASSWORD #1 = f8Fhb\n",
      "PASSWORD #2 = e8hXN\n"
     ]
    }
   ],
   "source": [
    "import random  # Import the random module to generate random numbers\n",
    "\n",
    "def generate_password(pwlen):\n",
    "    alphabet = \"abcdefghijklmnopqrstuvwxyz\"  # Define the alphabet to use for generating passwords\n",
    "    passwords = []  # Initialize an empty list to store generated passwords\n",
    "\n",
    "    # Iterate over each requested password length\n",
    "    for length in pwlen:\n",
    "        password = \"\"  # Initialize an empty string for the current password\n",
    "        \n",
    "        # Generate a password of the specified length\n",
    "        for _ in range(length):\n",
    "            next_letter_index = random.randrange(len(alphabet))  # Get a random index for the alphabet\n",
    "            password += alphabet[next_letter_index]  # Append the letter at the random index to the password\n",
    "\n",
    "        # Modify the password by replacing some letters with numbers\n",
    "        password = replacenumber(password)\n",
    "        \n",
    "        # Modify the password further by replacing some letters with uppercase letters\n",
    "        password = uppercaseletter(password)\n",
    "\n",
    "        passwords.append(password)  # Add the generated password to the list\n",
    "\n",
    "    return passwords  # Return the list of generated passwords\n",
    "\n",
    "def replacenumber(pword):\n",
    "    # Replace a random number of letters (1 or 2) in the first half of the password with digits\n",
    "    for _ in range(random.randrange(1, 3)):\n",
    "        replace_index = random.randrange(len(pword) // 2)  # Random index in the first half of the password\n",
    "        pword = pword[:replace_index] + str(random.randrange(10)) + pword[replace_index + 1:]  # Replace letter with a random digit\n",
    "    return pword  # Return the modified password\n",
    "\n",
    "def uppercaseletter(pword):\n",
    "    # Replace a random number of letters (1 or 2) in the second half of the password with uppercase letters\n",
    "    for _ in range(random.randrange(1, 3)):\n",
    "        replace_index = random.randrange(len(pword) // 2, len(pword))  # Random index in the second half of the password\n",
    "        pword = pword[:replace_index] + pword[replace_index].upper() + pword[replace_index + 1:]  # Replace letter with uppercase\n",
    "    return pword  # Return the modified password\n",
    "\n",
    "def main():\n",
    "    num_passwords = int(input(\"How many passwords do you want to generate? \"))  # Prompt user for number of passwords to generate\n",
    "    print(\"Generating \" + str(num_passwords) + \" passwords\")  # Inform user about the number of passwords being generated\n",
    "\n",
    "    password_lengths = []  # Initialize an empty list to store the lengths of passwords to generate\n",
    "\n",
    "    print(\"Minimum length of password should be 3\")  # Inform user about the minimum password length requirement\n",
    "\n",
    "    # Collect password lengths from the user\n",
    "    for i in range(num_passwords):\n",
    "        length = int(input(\"Enter the length of Password #\" + str(i + 1) + \" \"))  # Prompt user for length of each password\n",
    "        if length < 3:  # Ensure password length is at least 3\n",
    "            length = 3  # Set length to 3 if it is less than 3\n",
    "        password_lengths.append(length)  # Add the length to the list of password lengths\n",
    "\n",
    "    passwords = generate_password(password_lengths)  # Generate passwords based on the specified lengths\n",
    "\n",
    "    # Print each generated password\n",
    "    for i, password in enumerate(passwords):\n",
    "        print(\"PASSWORD #\" + str(i + 1) + \" = \" + password)  # Display each password with its index\n",
    "\n",
    "# Execute the main function when the script is run directly\n",
    "if __name__ == \"__main__\":\n",
    "    main()\n"
   ]
  },
  {
   "cell_type": "code",
   "execution_count": null,
   "id": "7535aca3-015f-42b9-9d82-782cef32b2a2",
   "metadata": {},
   "outputs": [],
   "source": []
  }
 ],
 "metadata": {
  "kernelspec": {
   "display_name": "Python 3 (ipykernel)",
   "language": "python",
   "name": "python3"
  },
  "language_info": {
   "codemirror_mode": {
    "name": "ipython",
    "version": 3
   },
   "file_extension": ".py",
   "mimetype": "text/x-python",
   "name": "python",
   "nbconvert_exporter": "python",
   "pygments_lexer": "ipython3",
   "version": "3.11.7"
  }
 },
 "nbformat": 4,
 "nbformat_minor": 5
}
