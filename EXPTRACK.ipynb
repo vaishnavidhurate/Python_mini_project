{
 "cells": [
  {
   "cell_type": "code",
   "execution_count": null,
   "id": "67565c08-02e5-4a21-a1eb-2be71f48d7dc",
   "metadata": {},
   "outputs": [
    {
     "name": "stdout",
     "output_type": "stream",
     "text": [
      "\n",
      "1. Add Expense\n",
      "2. View Expenses\n",
      "3. Summarize Expenses\n",
      "4. Exit\n"
     ]
    },
    {
     "name": "stdin",
     "output_type": "stream",
     "text": [
      "Enter your choice:  1\n",
      "Enter expense description:  SHOPPING -2000\n",
      "Enter expense amount:  20000\n",
      "Enter expense category:  CLOTHING\n"
     ]
    },
    {
     "name": "stdout",
     "output_type": "stream",
     "text": [
      "\n",
      "1. Add Expense\n",
      "2. View Expenses\n",
      "3. Summarize Expenses\n",
      "4. Exit\n"
     ]
    },
    {
     "name": "stdin",
     "output_type": "stream",
     "text": [
      "Enter your choice:  1\n",
      "Enter expense description:  GROCERY\n",
      "Enter expense amount:  1400\n",
      "Enter expense category:  FOOD\n"
     ]
    },
    {
     "name": "stdout",
     "output_type": "stream",
     "text": [
      "\n",
      "1. Add Expense\n",
      "2. View Expenses\n",
      "3. Summarize Expenses\n",
      "4. Exit\n"
     ]
    },
    {
     "name": "stdin",
     "output_type": "stream",
     "text": [
      "Enter your choice:  1\n",
      "Enter expense description:  RENT\n",
      "Enter expense amount:  5000\n",
      "Enter expense category:  BILLING\n"
     ]
    },
    {
     "name": "stdout",
     "output_type": "stream",
     "text": [
      "\n",
      "1. Add Expense\n",
      "2. View Expenses\n",
      "3. Summarize Expenses\n",
      "4. Exit\n"
     ]
    },
    {
     "name": "stdin",
     "output_type": "stream",
     "text": [
      "Enter your choice:  2\n"
     ]
    },
    {
     "name": "stdout",
     "output_type": "stream",
     "text": [
      "Description: SHOPPING -2000, Amount: $20000.00, Category: CLOTHING\n",
      "Description: GROCERY, Amount: $1400.00, Category: FOOD\n",
      "Description: RENT, Amount: $5000.00, Category: BILLING\n",
      "\n",
      "1. Add Expense\n",
      "2. View Expenses\n",
      "3. Summarize Expenses\n",
      "4. Exit\n"
     ]
    }
   ],
   "source": [
    "import json  # Import the JSON module to handle reading and writing JSON data\n",
    "\n",
    "# File to store expenses\n",
    "EXPENSE = 'expenses.json'\n",
    "\n",
    "def load_expenses():\n",
    "    \"\"\"\n",
    "    Load expenses from the JSON file.\n",
    "    If the file does not exist, return an empty list.\n",
    "    \"\"\"\n",
    "    try:\n",
    "        with open(EXPENS, 'r') as file:\n",
    "            return json.load(file)  # Read and return the data from the file\n",
    "    except FileNotFoundError:\n",
    "        return []  # Return an empty list if the file is not found\n",
    "\n",
    "def save_expenses(expenses):\n",
    "    \"\"\"\n",
    "    Save the list of expenses to the JSON file.\n",
    "    \"\"\"\n",
    "    with open(EXPENSE, 'w') as file:\n",
    "        json.dump(expenses, file, indent=4)  # Write the expenses to the file with pretty printing\n",
    "\n",
    "def add_expense(expenses):\n",
    "    \"\"\"\n",
    "    Prompt the user to add a new expense and append it to the list.\n",
    "    \"\"\"\n",
    "    description = input(\"Enter expense description: \")  # Get the expense description from the user\n",
    "    amount = float(input(\"Enter expense amount: \"))  # Get the expense amount from the user and convert it to a float\n",
    "    category = input(\"Enter expense category: \")  # Get the expense category from the user\n",
    "    \n",
    "    # Append the new expense to the list\n",
    "    expenses.append({\n",
    "        'description': description,\n",
    "        'amount': amount,\n",
    "        'category': category\n",
    "    })\n",
    "\n",
    "def view_expenses(expenses):\n",
    "    \"\"\"\n",
    "    Display all recorded expenses.\n",
    "    \"\"\"\n",
    "    for expense in expenses:\n",
    "        # Print each expense's details\n",
    "        print(f\"Description: {expense['description']}, Amount: ${expense['amount']:.2f}, Category: {expense['category']}\")\n",
    "\n",
    "def summarize_expenses(expenses):\n",
    "    \"\"\"\n",
    "    Summarize expenses by category and display the total amount spent per category.\n",
    "    \"\"\"\n",
    "    summary = {}  # Dictionary to hold the summary of expenses by category\n",
    "    for expense in expenses:\n",
    "        category = expense['category']\n",
    "        # Add or update the total amount for each category\n",
    "        if category in summary:\n",
    "            summary[category] += expense['amount']\n",
    "        else:\n",
    "            summary[category] = expense['amount']\n",
    "    \n",
    "    # Print the summary of expenses by category\n",
    "    for category, total in summary.items():\n",
    "        print(f\"Category: {category}, Total: ${total:.2f}\")\n",
    "\n",
    "def main():\n",
    "    \"\"\"\n",
    "    Main function to run the expense tracker application.\n",
    "    \"\"\"\n",
    "    expenses = load_expenses()  # Load existing expenses from the file\n",
    "    \n",
    "    while True:\n",
    "        # Display menu options\n",
    "        print(\"\\n1. Add Expense\")\n",
    "        print(\"2. View Expenses\")\n",
    "        print(\"3. Summarize Expenses\")\n",
    "        print(\"4. Exit\")\n",
    "        choice = input(\"Enter your choice: \")  # Get user's menu choice\n",
    "        \n",
    "        if choice == '1':\n",
    "            add_expense(expenses)  # Add a new expense\n",
    "            save_expenses(expenses)  # Save the updated list of expenses\n",
    "        elif choice == '2':\n",
    "            view_expenses(expenses)  # View all expenses\n",
    "        elif choice == '3':\n",
    "            summarize_expenses(expenses)  # Summarize expenses by category\n",
    "        elif choice == '4':\n",
    "            break  # Exit the loop and terminate the application\n",
    "        else:\n",
    "            print(\"Invalid choice. Please try again.\")  # Handle invalid menu choices\n",
    "\n",
    "# Run the main function if this script is executed directly\n",
    "if __name__ == \"__main__\":\n",
    "    main()\n"
   ]
  },
  {
   "cell_type": "code",
   "execution_count": null,
   "id": "dee49dbd-23ad-494f-9e75-9ccf70337ce8",
   "metadata": {},
   "outputs": [],
   "source": []
  }
 ],
 "metadata": {
  "kernelspec": {
   "display_name": "Python 3 (ipykernel)",
   "language": "python",
   "name": "python3"
  },
  "language_info": {
   "codemirror_mode": {
    "name": "ipython",
    "version": 3
   },
   "file_extension": ".py",
   "mimetype": "text/x-python",
   "name": "python",
   "nbconvert_exporter": "python",
   "pygments_lexer": "ipython3",
   "version": "3.11.7"
  }
 },
 "nbformat": 4,
 "nbformat_minor": 5
}
